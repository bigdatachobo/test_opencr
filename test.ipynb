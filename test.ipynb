{
 "cells": [
  {
   "cell_type": "code",
   "execution_count": 3,
   "metadata": {},
   "outputs": [
    {
     "name": "stdout",
     "output_type": "stream",
     "text": [
      "119\n",
      "115\n",
      "97\n",
      "100\n",
      "101\n"
     ]
    }
   ],
   "source": [
    "for i in ['w','s','a','d','e']:\n",
    "    print(ord(i))"
   ]
  }
 ],
 "metadata": {
  "interpreter": {
   "hash": "2acf3317d1905d1fb79ecd0502a4983285599baa10b863f7028d901896a0bb72"
  },
  "kernelspec": {
   "display_name": "Python 3.8.12 64-bit ('py38': conda)",
   "language": "python",
   "name": "python3"
  },
  "language_info": {
   "codemirror_mode": {
    "name": "ipython",
    "version": 3
   },
   "file_extension": ".py",
   "mimetype": "text/x-python",
   "name": "python",
   "nbconvert_exporter": "python",
   "pygments_lexer": "ipython3",
   "version": "3.8.12"
  },
  "orig_nbformat": 4
 },
 "nbformat": 4,
 "nbformat_minor": 2
}
